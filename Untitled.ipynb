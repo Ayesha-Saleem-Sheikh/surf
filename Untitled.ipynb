{
 "cells": [
  {
   "cell_type": "code",
   "execution_count": null,
   "id": "df7ce83c-369e-464c-9e18-1f7f87adebf5",
   "metadata": {},
   "outputs": [],
   "source": [
    "!pip install pandas"
   ]
  },
  {
   "cell_type": "code",
   "execution_count": 4,
   "id": "870a0596-d06b-4bd9-9929-5d8e161d0057",
   "metadata": {},
   "outputs": [
    {
     "name": "stdout",
     "output_type": "stream",
     "text": [
      "/home/asaleemsheikh_smith_edu/gold_standards/txt2onto2.0\n"
     ]
    }
   ],
   "source": [
    "cd gold_standards/txt2onto2.0"
   ]
  },
  {
   "cell_type": "code",
   "execution_count": null,
   "id": "bf79f120-9b87-4fd5-bc78-40033d2c6f23",
   "metadata": {
    "scrolled": true
   },
   "outputs": [],
   "source": [
    "#made the id column into a list \n",
    "import pandas as pd\n",
    "\n",
    "file_path = 'cancerrelateddis.csv'\n",
    "column_name = 'ID'\n",
    "df = pd.read_csv(file_path)\n",
    "x = df[column_name].astype(str).tolist()\n",
    "\n",
    "\n",
    "print(x)"
   ]
  },
  {
   "cell_type": "code",
   "execution_count": null,
   "id": "ae0fcd56-ddf5-4860-abda-cca5f30eb939",
   "metadata": {},
   "outputs": [],
   "source": [
    "#edited the list to replce : with _\n",
    "mondo= [e.replace(':','_') for e in x]\n",
    "\n",
    "print (mondo)"
   ]
  },
  {
   "cell_type": "code",
   "execution_count": null,
   "id": "65bce1ea-9890-415a-85f8-418683f53912",
   "metadata": {},
   "outputs": [],
   "source": [
    "#made sure for loop works\n",
    "for index in mondo:\n",
    "  print (index)"
   ]
  },
  {
   "cell_type": "code",
   "execution_count": null,
   "id": "1ff057e0-c146-4eaa-b0e4-1e949679a444",
   "metadata": {},
   "outputs": [],
   "source": [
    "#ran the prediction for all the mondo values\n",
    "import os\n",
    "for index in mondo:\n",
    "    mondo_path = f\"bins/{index}__model.pkl\"\n",
    "    result_path = \"results/mouse_orignal\"\n",
    "\n",
    "    command = f\"python src/predict.py -input metadata_mouse_title_processed.tsv -id metadata_mouse_ID.tsv -input_embed metadata_mouse_title_embedding.npz -train_embed data/disease_desc_embedding.npz -model {mondo_path} -out {result_path}\"\n",
    "    #print (command)\n",
    "    os.system(command)"
   ]
  },
  {
   "cell_type": "code",
   "execution_count": null,
   "id": "ca447d78-b4b3-4c64-aebb-525702cac8a9",
   "metadata": {},
   "outputs": [],
   "source": [
    "import pandas as pd\n",
    "df = pd.read_csv('metadata_mouse_title_processed.tsv', sep='\\t')\n",
    "df = df.iloc[:10]\n",
    "column_name = 'title'\n",
    "selected_column = df[column_name]\n",
    "print(selected_column)\n",
    "print(selected_column)\n",
    "selected_column.to_csv('metadata_mouse_title_processed_10.tsv', sep='\\t', index=False)"
   ]
  },
  {
   "cell_type": "code",
   "execution_count": null,
   "id": "ab6f8570-2084-4dcf-8fda-9dd81ddc8beb",
   "metadata": {},
   "outputs": [],
   "source": [
    "import pandas as pd\n",
    "df = pd.read_csv('metadata_mouse_ID.tsv', sep='\\t')\n",
    "df = df.iloc[:10]\n",
    "column_name = 'Accession'\n",
    "selected_column = df[column_name]\n",
    "print(selected_column)\n",
    "selected_column.to_csv('metadata_mouse_ID_10.tsv', sep='\\t', index=False)"
   ]
  },
  {
   "cell_type": "code",
   "execution_count": null,
   "id": "930a131a-b66d-4517-aa26-22cd610c7b4f",
   "metadata": {},
   "outputs": [],
   "source": [
    "pip install transformers"
   ]
  },
  {
   "cell_type": "code",
   "execution_count": null,
   "id": "4c5586cc-219b-4778-8988-a2d4b463b08f",
   "metadata": {
    "scrolled": true
   },
   "outputs": [],
   "source": [
    "pip install torch"
   ]
  },
  {
   "cell_type": "code",
   "execution_count": null,
   "id": "8a2503b9-950b-4893-82f8-05781bcbba68",
   "metadata": {},
   "outputs": [],
   "source": [
    "!python src/embedding_lookup_table.py -input metadata_mouse_title_processed_10.tsv -out demo/metadata_mouse_title_embedding_10.npz"
   ]
  },
  {
   "cell_type": "code",
   "execution_count": null,
   "id": "c7a46bdb-5580-4be0-9f45-c53272a77762",
   "metadata": {},
   "outputs": [],
   "source": [
    "#ran the prediction for all the mondo values\n",
    "for index in mondo:\n",
    "    mondo_path = f\"bins/{index}__model.pkl\"\n",
    "    result_path = \"results/10experiment\"\n",
    "\n",
    "    command = f\"python src/predict.py -input demo/metadata_mouse_title_processed_10.tsv -id metadata_mouse_ID_10.tsv -input_embed demo/metadata_mouse_title_embedding_10.npz -train_embed data/disease_desc_embedding.npz -model {mondo_path} -out {result_path}\"\n",
    "    #print (command)\n",
    "    os.system(command)"
   ]
  },
  {
   "cell_type": "code",
   "execution_count": null,
   "id": "0fdeb452-49c2-4717-87b1-69a8de4b02f6",
   "metadata": {},
   "outputs": [],
   "source": [
    "# setting a threshold for log \n",
    "import pandas as pd\n",
    "import os\n",
    "result_folder = \"results/mouse\"\n",
    "csv_files = [f for f in os.listdir(result_folder) if f.endswith('.csv')]\n",
    "filter_column = 'log2(prob/prior)'\n",
    "threshold = 1\n",
    "for filename in csv_files:\n",
    "    file_path = os.path.join(result_folder, filename)\n",
    "    try:\n",
    "        df = pd.read_csv(file_path)\n",
    "        if filter_column not in df.columns:\n",
    "            print(f\":warning: Column '{filter_column}' not in {filename}, skipping.\")\n",
    "            continue\n",
    "        filtered_df = df[df[filter_column] >= threshold]\n",
    "        filtered_df.to_csv(file_path, index=False)\n",
    "        print(f\":white_check_mark: Filtered {filename}, kept {len(filtered_df)} rows.\")\n",
    "    except Exception as e:\n",
    "        print(f\":x: Error processing {filename}: {e}\")"
   ]
  },
  {
   "cell_type": "code",
   "execution_count": null,
   "id": "3955eaea-e0a2-4265-83d9-16cefb3e4548",
   "metadata": {},
   "outputs": [],
   "source": [
    "# setting a threshold for the number of string predictions generated\n",
    "import pandas as pd\n",
    "import os\n",
    "import shutil\n",
    "result_folder = \"results/mouse\"\n",
    "output_folder = \"results/mouse/nota_preds_50\"\n",
    "os.makedirs(output_folder, exist_ok=True)\n",
    "min_rows = 50\n",
    "csv_files = [f for f in os.listdir(result_folder) if f.endswith('.csv')]\n",
    "for filename in csv_files:\n",
    "    file_path = os.path.join(result_folder, filename)\n",
    "    df = pd.read_csv(file_path)\n",
    "    kept_rows = len(df)\n",
    "    print(f\":white_check_mark: {filename} has {kept_rows} rows.\")\n",
    "        # Only copy if rows >= 50\n",
    "    if kept_rows >= min_rows:\n",
    "        shutil.copy(file_path, os.path.join(output_folder, filename))\n",
    "        print(f\":arrow_right: Copied {filename} to {output_folder}\")"
   ]
  },
  {
   "cell_type": "code",
   "execution_count": null,
   "id": "6bdcd327-d697-4fd8-9e28-35f8cb21f03f",
   "metadata": {},
   "outputs": [],
   "source": [
    "\n",
    "import pandas as pd\n",
    "\n",
    "df1 = pd.read_csv('results/mouse/nota_preds_50/MONDO_0000637__preds.csv')\n",
    "df2 = pd.read_csv('results/mouse/nota_preds_50/MONDO_0002129__preds.csv')\n",
    "\n",
    "# Merge the DataFrames based on the 'ID' column\n",
    "merged_df = pd.merge(df1, df2, on='ID', how='inner')\n",
    "\n",
    "# Save the merged DataFrame to a new CSV file\n",
    "merged_df.to_csv('637-2129_file.csv', index=False)"
   ]
  },
  {
   "cell_type": "code",
   "execution_count": null,
   "id": "dbb1d621-fb20-47a1-a4b7-a199be53a6d5",
   "metadata": {},
   "outputs": [],
   "source": [
    "import pandas as pd\n",
    "\n",
    "df1 = pd.read_csv('results/mouse/nota_preds_50/MONDO_0021138__preds.csv')\n",
    "df2 = pd.read_csv('results/mouse/nota_preds_50/MONDO_0002129__preds.csv')\n",
    "\n",
    "# Merge the DataFrames based on the 'ID' column\n",
    "merged_df = pd.merge(df1, df2, on='ID', how='inner')\n",
    "\n",
    "# Save the merged DataFrame to a new CSV file\n",
    "merged_df.to_csv('0021138 to 002129.csv', index=False)"
   ]
  },
  {
   "cell_type": "code",
   "execution_count": null,
   "id": "0c7fe5bf-49a0-4d48-abba-340acc2a6d65",
   "metadata": {},
   "outputs": [],
   "source": [
    "pwd"
   ]
  },
  {
   "cell_type": "code",
   "execution_count": null,
   "id": "0263b394-8739-440e-a799-97f4c011601d",
   "metadata": {},
   "outputs": [],
   "source": [
    "import pandas as pd\n",
    "df1 = pd.read_csv('results/mouse/nota_preds_50/MONDO_0021138__preds.csv')\n",
    "df2 = pd.read_csv('results/mouse/nota_preds_50/MONDO_0002129__preds.csv')\n",
    "# Merge the DataFrames based on the 'ID' column\n",
    "merged_df = pd.merge(df1, df2, on='ID', how='left')\n",
    "# Save the merged DataFrame to a new CSV file\n",
    "merged_df.to_csv('results/merged/bonemarrowtobone.csv', index=False)"
   ]
  },
  {
   "cell_type": "code",
   "execution_count": null,
   "id": "8662cf8b-96b1-4a4c-886f-85eec2be70b6",
   "metadata": {},
   "outputs": [],
   "source": [
    "# setting a threshold for the number of string predictions generated\n",
    "import pandas as pd\n",
    "import os\n",
    "import shutil\n",
    "result_folder = \"results/mouse\"\n",
    "output_folder = \"results/mouse/mouse_15\"\n",
    "os.makedirs(output_folder, exist_ok=True)\n",
    "min_rows = 1\n",
    "csv_files = [f for f in os.listdir(result_folder) if f.endswith('.csv')]\n",
    "for filename in csv_files:\n",
    "    file_path = os.path.join(result_folder, filename)\n",
    "    df = pd.read_csv(file_path)\n",
    "    kept_rows = len(df)\n",
    "    print(f\":white_check_mark: {filename} has {kept_rows} rows.\")\n",
    "        # Only copy if rows >= 50\n",
    "    if kept_rows >= min_rows and kept_rows>0 :\n",
    "        shutil.copy(file_path, os.path.join(output_folder, filename))\n",
    "        print(f\":arrow_right: Copied {filename} to {output_folder}\")"
   ]
  },
  {
   "cell_type": "code",
   "execution_count": null,
   "id": "21567cfb-4553-432b-a2bd-7c8502eab4f4",
   "metadata": {},
   "outputs": [],
   "source": [
    "#converting a json file to csv file \n",
    "import pandas as pd\n",
    "\n",
    "# Read and flatten the nested JSON\n",
    "df = pd.read_json('demo/metadata_human.json')\n",
    "df = df.transpose()  # or: pd.DataFrame.from_dict(df, orient='index')\n",
    "\n",
    "# Save as CSV\n",
    "df.to_csv('demo/metadata_mouse.csv', index_label='Accession')\n"
   ]
  },
  {
   "cell_type": "code",
   "execution_count": null,
   "id": "fd6216aa-9dd0-40df-b53e-a449192bb4b8",
   "metadata": {},
   "outputs": [],
   "source": [
    "# human\n",
    "#convert a csv file to tsv using pandas\n",
    "import pandas as pd\n",
    "def convert_csv_to_tsv_pandas(csv_file_path,tsv_file_path):\n",
    "    df = pd.read_csv(csv_file_path)\n",
    "    df.to_csv(tsv_file_path, sep='\\t', index=False)\n",
    "# Example usage:\n",
    "csv_file_path = 'demo/metadata_human.csv'\n",
    "tsv_file_path = 'demo/metadata_human.tsv'\n",
    "convert_csv_to_tsv_pandas(csv_file_path, tsv_file_path)"
   ]
  },
  {
   "cell_type": "code",
   "execution_count": null,
   "id": "2b341fcb-bdbc-4385-90c7-ed2440e34ac3",
   "metadata": {},
   "outputs": [],
   "source": [
    "import pandas as pd\n",
    "\n",
    "file_path = 'demo/metadata_human.tsv'\n",
    "df = pd.read_csv('demo/metadata_human.tsv', sep='\\t', on_bad_lines='skip')\n",
    "\n",
    "# Select the column by name\n",
    "# column_name = 'your_column_name'\n",
    "# selected_column = df[column_name]\n",
    "\n",
    "# Or select the column by index\n",
    "column_index = 1\n",
    "selected_column = df.iloc[:, column_index]\n",
    "\n",
    "# print (selected_column)\n",
    "\n",
    "output_file_path = 'demo/metadata_human_title.tsv'\n",
    "selected_column.to_csv(output_file_path, sep='\\t', index=False, header=True)"
   ]
  },
  {
   "cell_type": "code",
   "execution_count": null,
   "id": "e1d000e4-287e-4c4c-834d-213db86ad075",
   "metadata": {},
   "outputs": [],
   "source": [
    "!pip install nltk"
   ]
  },
  {
   "cell_type": "code",
   "execution_count": null,
   "id": "5d93db3f-2edc-436f-9aaf-874c440fac69",
   "metadata": {},
   "outputs": [],
   "source": [
    "!python src/preprocess.py -input demo/metadata_human_title.tsv -out demo/metadata_human_title_processed.tsv"
   ]
  },
  {
   "cell_type": "code",
   "execution_count": null,
   "id": "a24ae1c1-7c4b-40f2-8f29-edb48911f6c3",
   "metadata": {},
   "outputs": [],
   "source": [
    "!python src/embedding_lookup_table.py -input demo/metadata_human_title_processed.tsv -out demo/metadata_human_title_embedding.npz"
   ]
  },
  {
   "cell_type": "code",
   "execution_count": null,
   "id": "1f917a47-9513-4ee4-bcb9-d4db86979076",
   "metadata": {},
   "outputs": [],
   "source": [
    "#ran the prediction for all the mondo values\n",
    "import os\n",
    "for index in mondo:\n",
    "    mondo_path = f\"bins/{index}__model.pkl\"\n",
    "    result_path = \"results/human\"\n",
    "\n",
    "    command = f\"python src/predict.py -input demo/metadata_human_title_processed.tsv -id metadata_human_ID2.tsv -input_embed demo/metadata_human_title_embedding.npz -train_embed data/disease_desc_embedding.npz -model {mondo_path} -out {result_path}\"\n",
    "    # print (command)\n",
    "    os.system(command)"
   ]
  },
  {
   "cell_type": "code",
   "execution_count": null,
   "id": "f27f0687-5001-4e0f-acdc-183c8cec65da",
   "metadata": {},
   "outputs": [],
   "source": [
    "# setting a threshold for log \n",
    "import pandas as pd\n",
    "import os\n",
    "result_folder = \"results/human\"\n",
    "csv_files = [f for f in os.listdir(result_folder) if f.endswith('.csv')]\n",
    "filter_column = 'log2(prob/prior)'\n",
    "threshold = 1\n",
    "for filename in csv_files:\n",
    "    file_path = os.path.join(result_folder, filename)\n",
    "    try:\n",
    "        df = pd.read_csv(file_path)\n",
    "        if filter_column not in df.columns:\n",
    "            print(f\":warning: Column '{filter_column}' not in {filename}, skipping.\")\n",
    "            continue\n",
    "        filtered_df = df[df[filter_column] >= threshold]\n",
    "        filtered_df.to_csv(file_path, index=False)\n",
    "        print(f\":white_check_mark: Filtered {filename}, kept {len(filtered_df)} rows.\")\n",
    "    except Exception as e:\n",
    "        print(f\":x: Error processing {filename}: {e}\")"
   ]
  },
  {
   "cell_type": "code",
   "execution_count": null,
   "id": "d289b072-946e-4274-878f-1a60fcbd0f6c",
   "metadata": {},
   "outputs": [],
   "source": [
    "# setting a threshold for the number of string predictions generated\n",
    "import pandas as pd\n",
    "import os\n",
    "import shutil\n",
    "result_folder = \"results/human\"\n",
    "output_folder = \"results/human/nota_preds_50\"\n",
    "os.makedirs(output_folder, exist_ok=True)\n",
    "min_rows = 50\n",
    "csv_files = [f for f in os.listdir(result_folder) if f.endswith('.csv')]\n",
    "for filename in csv_files:\n",
    "    file_path = os.path.join(result_folder, filename)\n",
    "    df = pd.read_csv(file_path)\n",
    "    kept_rows = len(df)\n",
    "    print(f\":white_check_mark: {filename} has {kept_rows} rows.\")\n",
    "        # Only copy if rows >= 50\n",
    "    if kept_rows >= min_rows:\n",
    "        shutil.copy(file_path, os.path.join(output_folder, filename))\n",
    "        print(f\":arrow_right: Copied {filename} to {output_folder}\")"
   ]
  },
  {
   "cell_type": "code",
   "execution_count": null,
   "id": "e43d811f-cb5e-48ed-87bc-71311a547dd9",
   "metadata": {},
   "outputs": [],
   "source": [
    "import pandas as pd\n",
    "df1 = pd.read_csv('results/human/nota_preds_50/MONDO_0003274__preds.csv')\n",
    "df2 = pd.read_csv('results/human/nota_preds_50/MONDO_0008903__preds.csv')\n",
    "# Merge the DataFrames based on the 'ID' column\n",
    "merged_df = pd.merge(df1, df2, on='ID', how='left')\n",
    "# Save the merged DataFrame to a new CSV file\n",
    "merged_df.to_csv('results/human/merged/lungCan_thoracicCan.csv', index=False)"
   ]
  },
  {
   "cell_type": "code",
   "execution_count": null,
   "id": "7bd3db93-c32e-407a-90fe-6f7a7956ede0",
   "metadata": {},
   "outputs": [],
   "source": [
    "import pandas as pd\n",
    "\n",
    "def count_empty_cells(csv_file, column_name):\n",
    "    df = pd.read_csv(csv_file)\n",
    "    row_count = len(df)\n",
    "    empty_count = df[column_name].isnull().sum()\n",
    "    return (row_count - empty_count)\n",
    "\n",
    "# Example usage:\n",
    "csv_file_path = 'results/human/merged/lungCan_thoracicCan.csv'\n",
    "column_to_check = 'prob_y'\n",
    "empty_cells = count_empty_cells(csv_file_path, column_to_check)\n",
    "print(f\"Number of empty cells in '{column_to_check}': {empty_cells}\")"
   ]
  },
  {
   "cell_type": "code",
   "execution_count": null,
   "id": "c733717b-ec90-4219-adaf-617e35289866",
   "metadata": {},
   "outputs": [],
   "source": [
    "Summary Ahead!!"
   ]
  },
  {
   "cell_type": "code",
   "execution_count": null,
   "id": "aa7b92e1-4174-4543-a23c-1ad9660b0fa3",
   "metadata": {},
   "outputs": [],
   "source": [
    "import pandas as pd\n",
    "\n",
    "file_path = 'demo/metadata_human.tsv'\n",
    "df = pd.read_csv('demo/metadata_human.tsv', sep='\\t', on_bad_lines='skip')\n",
    "\n",
    "# Select the column by name\n",
    "# column_name = 'your_column_name'\n",
    "# selected_column = df[column_name]\n",
    "\n",
    "# Or select the column by index\n",
    "column_index = 4\n",
    "selected_column = df.iloc[:, column_index]\n",
    "\n",
    "print (selected_column)\n",
    "\n",
    "output_file_path = 'demo/humansummary/metadata_human_summary.tsv'\n",
    "selected_column.to_csv(output_file_path, sep='\\t', index=False, header=True)"
   ]
  },
  {
   "cell_type": "code",
   "execution_count": null,
   "id": "c0f05011-19fd-434d-aa5a-3f25baf84626",
   "metadata": {},
   "outputs": [],
   "source": [
    "!python src/preprocess.py -input demo/humansummary/metadata_human_summary.tsv -out demo/humansummary/metadata_human_summary_processed.tsv"
   ]
  },
  {
   "cell_type": "code",
   "execution_count": null,
   "id": "ba1c54d5-4080-4272-96d4-62ee88f26d70",
   "metadata": {},
   "outputs": [],
   "source": [
    "!python src/embedding_lookup_table.py -input demo/humansummary/metadata_human_summary_processed.tsv -out demo/humansummary/metadata_human_summary_embedding.npz"
   ]
  },
  {
   "cell_type": "code",
   "execution_count": null,
   "id": "2835560c-c1ae-4c96-b8a7-3a44f3e481e5",
   "metadata": {},
   "outputs": [],
   "source": [
    "#ran the prediction for all the mondo values\n",
    "import os\n",
    "for index in mondo:\n",
    "    mondo_path = f\"bins/{index}__model.pkl\"\n",
    "    result_path = \"results/humansummary\"\n",
    "\n",
    "    command = f\"python src/predict.py -input  demo/humansummary/metadata_human_summary_processed.tsv -id metadata_human_ID2.tsv -input_embed  demo/humansummary/metadata_human_summary_embedding.npz -train_embed data/disease_desc_embedding.npz -model {mondo_path} -out {result_path}\"\n",
    "    #print (command)\n",
    "    os.system(command)"
   ]
  },
  {
   "cell_type": "code",
   "execution_count": null,
   "id": "d5ed3caa-7bdc-4b6c-8383-dd68807a5d76",
   "metadata": {},
   "outputs": [],
   "source": [
    "# setting a threshold for log \n",
    "import pandas as pd\n",
    "import os\n",
    "result_folder = \"results/humansummary\"\n",
    "csv_files = [f for f in os.listdir(result_folder) if f.endswith('.csv')]\n",
    "filter_column = 'log2(prob/prior)'\n",
    "threshold = 1\n",
    "for filename in csv_files:\n",
    "    file_path = os.path.join(result_folder, filename)\n",
    "    try:\n",
    "        df = pd.read_csv(file_path)\n",
    "        if filter_column not in df.columns:\n",
    "            print(f\":warning: Column '{filter_column}' not in {filename}, skipping.\")\n",
    "            continue\n",
    "        filtered_df = df[df[filter_column] >= threshold]\n",
    "        filtered_df.to_csv(file_path, index=False)\n",
    "        print(f\":white_check_mark: Filtered {filename}, kept {len(filtered_df)} rows.\")\n",
    "    except Exception as e:\n",
    "        print(f\":x: Error processing {filename}: {e}\")"
   ]
  },
  {
   "cell_type": "code",
   "execution_count": null,
   "id": "fc1ad1b4-14d9-47eb-9b19-560ac8749146",
   "metadata": {
    "scrolled": true
   },
   "outputs": [],
   "source": [
    "# setting a threshold for the number of string predictions generated\n",
    "import pandas as pd\n",
    "import os\n",
    "import shutil\n",
    "result_folder = \"results/humansummary\"\n",
    "output_folder = \"results/humansummary/nota_preds_50\"\n",
    "os.makedirs(output_folder, exist_ok=True)\n",
    "min_rows = 50\n",
    "csv_files = [f for f in os.listdir(result_folder) if f.endswith('.csv')]\n",
    "for filename in csv_files:\n",
    "    file_path = os.path.join(result_folder, filename)\n",
    "    df = pd.read_csv(file_path)\n",
    "    kept_rows = len(df)\n",
    "    print(f\":white_check_mark: {filename} has {kept_rows} rows.\")\n",
    "        # Only copy if rows >= 50\n",
    "    if kept_rows >= min_rows:\n",
    "        shutil.copy(file_path, os.path.join(output_folder, filename))\n",
    "        print(f\":arrow_right: Copied {filename} to {output_folder}\")"
   ]
  },
  {
   "cell_type": "code",
   "execution_count": null,
   "id": "45a8afe4-accd-4757-9122-3247a868b4c6",
   "metadata": {},
   "outputs": [],
   "source": [
    "import pandas as pd\n",
    "df1 = pd.read_csv('results/humansummary/nota_preds_50/MONDO_0003274__preds.csv')\n",
    "df2 = pd.read_csv('results/humansummary/nota_preds_50/MONDO_0007254__preds.csv')\n",
    "# Merge the DataFrames based on the 'ID' column\n",
    "merged_df = pd.merge(df1, df2, on='ID', how='left')\n",
    "# Save the merged DataFrame to a new CSV file\n",
    "merged_df.to_csv('results/humansummary/merged/prostate_malerepro.csv', index=False)"
   ]
  },
  {
   "cell_type": "code",
   "execution_count": null,
   "id": "bca05a96-f441-488c-bf87-6a4efb0e3665",
   "metadata": {},
   "outputs": [],
   "source": [
    "import pandas as pd\n",
    "\n",
    "def count_empty_cells(csv_file, column_name):\n",
    "    df = pd.read_csv(csv_file)\n",
    "    row_count = len(df)\n",
    "    empty_count = df[column_name].isnull().sum()\n",
    "    return (row_count - empty_count)\n",
    "\n",
    "# Example usage:\n",
    "csv_file_path = 'results/humansummary/merged/prostate_malerepro.csv'\n",
    "column_to_check = 'prob_y'\n",
    "empty_cells = count_empty_cells(csv_file_path, column_to_check)\n",
    "print({empty_cells})"
   ]
  },
  {
   "cell_type": "code",
   "execution_count": null,
   "id": "ac944ef9-41da-46a7-8022-dccb6e25f4c6",
   "metadata": {},
   "outputs": [],
   "source": [
    "Merging human title ahead!!"
   ]
  },
  {
   "cell_type": "code",
   "execution_count": null,
   "id": "2c262b0c-d462-441d-ba0f-9704c9355238",
   "metadata": {},
   "outputs": [],
   "source": [
    "import pandas as pd\n",
    "df1 = pd.read_csv('results/human/nota_preds_1/MONDO_0002715__preds.csv')\n",
    "df2 = pd.read_csv('results/human/nota_preds_1/MONDO_0001416__preds.csv')\n",
    "# Merge the DataFrames based on the 'ID' column\n",
    "merged_df = pd.merge(df1, df2, on='ID', how='left')\n",
    "# Save the merged DataFrame to a new CSV file\n",
    "merged_df.to_csv('results/human/merged_1/uterine cancer_female reproductive organ cancer.csv', index=False)\n"
   ]
  },
  {
   "cell_type": "code",
   "execution_count": null,
   "id": "b0833c98-cfe4-4ab3-ba93-ea29f26430f2",
   "metadata": {},
   "outputs": [],
   "source": [
    "import pandas as pd\n",
    "\n",
    "def count_empty_cells(csv_file, column_name):\n",
    "    df = pd.read_csv(csv_file)\n",
    "    row_count = len(df)\n",
    "    empty_count = df[column_name].isnull().sum()\n",
    "    result = row_count - empty_count\n",
    "    percentage = (result/row_count)*100\n",
    "    return (result,percentage)\n",
    "\n",
    "# Example usage:\n",
    "csv_file_path = 'results/human/merged_1/uterine cancer_female reproductive organ cancer.csv'\n",
    "column_to_check = 'prob_y'\n",
    "empty_cells = count_empty_cells(csv_file_path, column_to_check)\n",
    "print({empty_cells})"
   ]
  },
  {
   "cell_type": "code",
   "execution_count": null,
   "id": "653a878b-1617-48d9-ba82-522803f862d2",
   "metadata": {
    "scrolled": true
   },
   "outputs": [],
   "source": [
    "# setting a threshold for the number of string predictions generated\n",
    "import pandas as pd\n",
    "import os\n",
    "import shutil\n",
    "result_folder = \"results/human\"\n",
    "output_folder = \"results/human/nota_preds_1\"\n",
    "os.makedirs(output_folder, exist_ok=True)\n",
    "min_rows = 1\n",
    "csv_files = [f for f in os.listdir(result_folder) if f.endswith('.csv')]\n",
    "for filename in csv_files:\n",
    "    file_path = os.path.join(result_folder, filename)\n",
    "    df = pd.read_csv(file_path)\n",
    "    kept_rows = len(df)\n",
    "    print(f\":white_check_mark: {filename} has {kept_rows} rows.\")\n",
    "        # Only copy if rows >= 50\n",
    "    if kept_rows >= min_rows and kept_rows <= 50 :\n",
    "        shutil.copy(file_path, os.path.join(output_folder, filename))\n",
    "        print(f\":arrow_right: Copied {filename} to {output_folder}\")"
   ]
  },
  {
   "cell_type": "code",
   "execution_count": null,
   "id": "085027e4-41a2-46c8-a659-905f2536b34e",
   "metadata": {},
   "outputs": [],
   "source": [
    "#mouse testing on breast cancer MONDO!!"
   ]
  },
  {
   "cell_type": "code",
   "execution_count": null,
   "id": "40b7a46e-3aa7-4a4b-99e4-1464d92a3847",
   "metadata": {},
   "outputs": [],
   "source": [
    "import pandas as pd\n",
    "df1 = pd.read_csv('results/mouse/mouse_15/MONDO_0006513__preds.csv')\n",
    "df2 = pd.read_csv('results/mouse/mouse_15/MONDO_0007254__preds.csv')\n",
    "# Merge the DataFrames based on the 'ID' column\n",
    "merged_df = pd.merge(df1, df2, on='ID', how='left')\n",
    "# Save the merged DataFrame to a new CSV file\n",
    "merged_df.to_csv('results/mouse/merged_test/estrogen-receptor negative breast cancer_breast cancer.csv', index=False)\n"
   ]
  },
  {
   "cell_type": "code",
   "execution_count": null,
   "id": "6a722875-1b9a-4052-b358-82c2d1c7847f",
   "metadata": {},
   "outputs": [],
   "source": [
    "# Adding file name as a coulmn\n",
    "\n",
    "import pandas as pd\n",
    "import os\n",
    "result_folder = \"results/human/nota_preds_1\"\n",
    "csv_files = [f for f in os.listdir(result_folder) if f.endswith(\".csv\")]\n",
    "print(\"Found CSV files:\", csv_files)\n",
    "for filename in csv_files:\n",
    "    file_path = os.path.join(result_folder, filename)\n",
    "    try:\n",
    "        df = pd.read_csv(file_path)\n",
    "        filename_prefix = os.path.basename(filename).split(\"__\")[0]\n",
    "        df[\"MONDO ID\"] = filename_prefix\n",
    "        print(f\":white_check_mark: Processed {filename}\")\n",
    "        # Save the modified file\n",
    "        output_path = os.path.join(result_folder, f\"modified_{filename}\")\n",
    "        df.to_csv(output_path, index=False)\n",
    "    except Exception as e:\n",
    "            print(\":x: Error processing\", filename, \":\", e)\n"
   ]
  },
  {
   "cell_type": "code",
   "execution_count": null,
   "id": "4a0b2780-9e96-4ead-acbd-a5ac7124f331",
   "metadata": {},
   "outputs": [],
   "source": [
    "import shutil\n",
    "import os\n",
    "\n",
    "def merge_directories(source_dir, dest_dir):\n",
    "    \"\"\"Merges the source directory into the destination directory.\"\"\"\n",
    "    if not os.path.exists(dest_dir):\n",
    "        os.makedirs(dest_dir)\n",
    "    \n",
    "    try:\n",
    "        shutil.copytree(source_dir, dest_dir, dirs_exist_ok=True)\n",
    "        print(f\"Successfully merged '{source_dir}' into '{dest_dir}'\")\n",
    "    except Exception as e:\n",
    "        print(f\"Error merging directories: {e}\")\n",
    "\n",
    "# Example usage:\n",
    "source_directory = \"results/human/nota_preds_50/processed\"\n",
    "destination_directory = \"results/human/nota_preds_50/processed2\"\n",
    "\n",
    "merge_directories(source_directory, destination_directory)"
   ]
  },
  {
   "cell_type": "code",
   "execution_count": null,
   "id": "f59e3a30-86a1-4b28-8ea9-7b5a23d49338",
   "metadata": {},
   "outputs": [],
   "source": [
    "import pandas as pd\n",
    "import os\n",
    "import glob\n",
    "folder_path = \"results/human/nota_preds_50/processed\"\n",
    "all_files = glob.glob(os.path.join(folder_path, \"*.csv\"))\n",
    "df = pd.concat((pd.read_csv(f) for f in all_files), ignore_index=True)\n",
    "df.to_csv(\"results/human/nota_preds_50/processed/combined_file2.csv\", index=False)"
   ]
  },
  {
   "cell_type": "code",
   "execution_count": null,
   "id": "eb94b9a0-9ce0-4452-b78b-630ab0e8144e",
   "metadata": {},
   "outputs": [],
   "source": [
    "import pandas as pd\n",
    "\n",
    "df = pd.read_csv('results/human/nota_preds_50/processed/combined_file2.csv')\n",
    "\n",
    "# Sort by 'col1' in ascending order\n",
    "df_sorted = df.sort_values(by='ID')\n",
    "df_sorted.to_csv('results/human/nota_preds_50/processed/combined_file2.csv', index=False)"
   ]
  },
  {
   "cell_type": "code",
   "execution_count": null,
   "id": "f57fdc85-3004-4db1-ab80-c9d5bde6c1a4",
   "metadata": {},
   "outputs": [],
   "source": [
    "!python src/predict.py -input demo/metadata_human_title_processed.tsv -id metadata_human_ID2.tsv -input_embed demo/metadata_human_title_embedding.npz -train_embed data/disease_desc_embedding.npz -model bins/MONDO_0005089__model.pkl -out results/human"
   ]
  },
  {
   "cell_type": "code",
   "execution_count": null,
   "id": "943d8cb2-6e54-461d-936d-38c61cea7df3",
   "metadata": {},
   "outputs": [],
   "source": [
    "!python src/predict.py -input metadata_mouse_title_processed.tsv -id metadata_mouse_ID.tsv -input_embed metadata_mouse_title_embedding.npz -train_embed data/disease_desc_embedding.npz -model bins/MONDO_0005089__model.pkl -out results/mouse_orignal"
   ]
  },
  {
   "cell_type": "code",
   "execution_count": null,
   "id": "20daa6a1-7e1e-4302-a789-6ee11b40e787",
   "metadata": {},
   "outputs": [],
   "source": []
  }
 ],
 "metadata": {
  "kernelspec": {
   "display_name": "Python 3 (ipykernel)",
   "language": "python",
   "name": "python3"
  },
  "language_info": {
   "codemirror_mode": {
    "name": "ipython",
    "version": 3
   },
   "file_extension": ".py",
   "mimetype": "text/x-python",
   "name": "python",
   "nbconvert_exporter": "python",
   "pygments_lexer": "ipython3",
   "version": "3.13.3"
  }
 },
 "nbformat": 4,
 "nbformat_minor": 5
}
